{
 "cells": [
  {
   "cell_type": "markdown",
   "metadata": {},
   "source": [
    "## TRAINING"
   ]
  },
  {
   "cell_type": "code",
   "execution_count": 1,
   "metadata": {},
   "outputs": [
    {
     "name": "stderr",
     "output_type": "stream",
     "text": [
      "Using TensorFlow backend.\n"
     ]
    },
    {
     "name": "stdout",
     "output_type": "stream",
     "text": [
      "Device mapping:\n",
      "\n"
     ]
    }
   ],
   "source": [
    "import numpy as np\n",
    "import matplotlib.pyplot as plt\n",
    "import tensorflow as tf\n",
    "import tensorflow as tf\n",
    "\n",
    "from keras.backend.tensorflow_backend import set_session\n",
    "config = tf.ConfigProto()\n",
    "config.gpu_options.allow_growth = True \n",
    "config.log_device_placement = True\n",
    "sess = tf.Session(config=config)\n",
    "set_session(sess)  \n",
    "\n",
    "from matplotlib.pyplot import specgram\n",
    "import keras\n",
    "from keras.preprocessing import sequence\n",
    "from keras.models import Sequential\n",
    "from keras.layers import Dense, Embedding, LSTM\n",
    "from keras.preprocessing.text import Tokenizer\n",
    "from keras.preprocessing.sequence import pad_sequences\n",
    "from keras.utils import to_categorical\n",
    "from keras.utils import np_utils\n",
    "from keras.layers import Input, Flatten, Dropout, Activation\n",
    "from keras.layers import Conv1D, MaxPooling1D, AveragePooling1D\n",
    "from keras.layers.convolutional import Conv2D\n",
    "from keras.layers.convolutional import MaxPooling2D\n",
    "from keras.models import Model\n",
    "from keras.callbacks import ModelCheckpoint\n",
    "from sklearn.utils import shuffle\n",
    "from sklearn.preprocessing import LabelEncoder\n",
    "\n",
    "import cv2\n",
    "import os\n",
    "import pandas as pd\n",
    "import numpy as np\n",
    "import json"
   ]
  },
  {
   "cell_type": "code",
   "execution_count": 5,
   "metadata": {},
   "outputs": [],
   "source": [
    "# DEFINING ALL PARAMETERS\n",
    "\n",
    "# which videos are used for training and validation, which for testing\n",
    "train_val_videos = [2, 3, 4, 5, 6, 7]\n",
    "test_videos = [1]\n",
    "\n",
    "# path to the database\n",
    "path = \"C:\\\\Users\\\\nazir\\\\Desktop\\\\CNN - FaceRecognition\\\\DB\\\\\"\n",
    "\n",
    "# frames per second used for training/validation and testing, max is 60\n",
    "fps_training = 10\n",
    "fps_testing = 20\n",
    "\n",
    "rate_training = 60/fps_training\n",
    "rate_testing = 60/fps_testing\n",
    "\n",
    "num_of_subjects = 62\n",
    "\n",
    "# image size in pixels\n",
    "x = 102\n",
    "y = 102\n",
    "\n",
    "scale_factor_x = round(x/512, 2)\n",
    "scale_factor_y = round(y/512, 2)"
   ]
  },
  {
   "cell_type": "code",
   "execution_count": 6,
   "metadata": {},
   "outputs": [],
   "source": [
    "# INITIALIZING VARIABLES\n",
    "\n",
    "training_list = []\n",
    "testing_list = []\n",
    "\n",
    "training_label = []\n",
    "testing_label = []\n",
    "\n",
    "training_counter = 0\n",
    "testing_counter = 0"
   ]
  },
  {
   "cell_type": "code",
   "execution_count": 7,
   "metadata": {},
   "outputs": [],
   "source": [
    "# LOADING DATA\n",
    "\n",
    "for i in range (1, num_of_subjects+1):   \n",
    "    for name in os.listdir(path + str(i) + '\\\\'):\n",
    "        img = cv2.imread(path + str(i) + '\\\\' + name)\n",
    "        \n",
    "        if(img.size == 786432):\n",
    "            small = cv2.resize(img, (0,0), fx=scale_factor_x, fy=scale_factor_y)\n",
    "            video_number = int(name.split('_')[1])\n",
    "        \n",
    "            if video_number in train_val_videos:\n",
    "                if training_counter % rate_training == 0:\n",
    "                    training_list.append(small)\n",
    "                    training_label.append(str(i))\n",
    "                training_counter += 1\n",
    "        \n",
    "            elif video_number in test_videos:\n",
    "                if testing_counter % rate_testing == 0:\n",
    "                    testing_list.append(small)\n",
    "                    testing_label.append(str(i))\n",
    "                testing_counter += 1"
   ]
  },
  {
   "cell_type": "code",
   "execution_count": 8,
   "metadata": {},
   "outputs": [
    {
     "name": "stdout",
     "output_type": "stream",
     "text": [
      "Training: 4028\n",
      "Testing: 3593\n"
     ]
    }
   ],
   "source": [
    "training_list = np.array(training_list)\n",
    "training_label = np.array(training_label)\n",
    "print(\"Training: \" + str(training_list.shape[0]))\n",
    "\n",
    "testing_list = np.array(testing_list)\n",
    "testing_label = np.array(testing_label)\n",
    "print(\"Testing: \" + str(testing_list.shape[0]))"
   ]
  },
  {
   "cell_type": "code",
   "execution_count": 9,
   "metadata": {},
   "outputs": [],
   "source": [
    "# NORMALIZING AND SHUFFLING TRAINING DATA\n",
    "\n",
    "training_list_normalized = training_list.astype('float32')/255.\n",
    "training_list_normalized = training_list_normalized.reshape(training_list_normalized.shape[0], x*y*3)\n",
    "\n",
    "training_df = pd.DataFrame(training_list_normalized)\n",
    "training_labels_df = pd.DataFrame(training_label)\n",
    "                                 \n",
    "training_vectors = pd.concat([training_df,training_labels_df], axis=1)\n",
    "training_vectors_shuffled = shuffle(training_vectors)"
   ]
  },
  {
   "cell_type": "code",
   "execution_count": 10,
   "metadata": {},
   "outputs": [],
   "source": [
    "# SPLITTING DATA IN TRAINING AND VALIDATION SET\n",
    "\n",
    "newdf1 = np.random.rand(len(training_vectors_shuffled)) < 0.7\n",
    "train = training_vectors_shuffled[newdf1]\n",
    "validation = training_vectors_shuffled[~newdf1]"
   ]
  },
  {
   "cell_type": "code",
   "execution_count": 11,
   "metadata": {},
   "outputs": [],
   "source": [
    "# SPLITTING FEATURE VECTORS AND LABELS\n",
    "\n",
    "trainfeatures = train.iloc[:, :-1]\n",
    "trainlabel = train.iloc[:, -1:]\n",
    "validationfeatures = validation.iloc[:, :-1]\n",
    "validationlabel = validation.iloc[:, -1:]"
   ]
  },
  {
   "cell_type": "code",
   "execution_count": 12,
   "metadata": {},
   "outputs": [],
   "source": [
    "numpy_trainfeatures = trainfeatures.values\n",
    "numpy_trainfeatures = numpy_trainfeatures.reshape(numpy_trainfeatures.shape[0],x,y,3)\n",
    "numpy_label = trainlabel.values\n",
    "\n",
    "numpy_validationfeatures = validationfeatures.values\n",
    "numpy_validationfeatures = numpy_validationfeatures.reshape(numpy_validationfeatures.shape[0],x,y,3)\n",
    "numpy_validationlabel = validationlabel.values"
   ]
  },
  {
   "cell_type": "code",
   "execution_count": 13,
   "metadata": {},
   "outputs": [],
   "source": [
    "# LABELS TO CATEGORICAL\n",
    "\n",
    "lb = LabelEncoder()\n",
    "\n",
    "numpy_trainlabel = np_utils.to_categorical(lb.fit_transform(numpy_label.ravel()))\n",
    "numpy_validationlabel = np_utils.to_categorical(lb.fit_transform(numpy_validationlabel.ravel()))"
   ]
  },
  {
   "cell_type": "code",
   "execution_count": 14,
   "metadata": {},
   "outputs": [],
   "source": [
    "# BUILDING THE MODEL\n",
    "\n",
    "def build_cnn_model():\n",
    "    model = Sequential()\n",
    "    \n",
    "    model.add(Conv2D(32, (3, 3), activation='relu', input_shape=(102,102,3)))\n",
    "    model.add(MaxPooling2D((2, 2)))\n",
    "    model.add(Dropout(0.15))\n",
    "    model.add(Conv2D(68, (3, 3), activation='relu'))\n",
    "    model.add(MaxPooling2D((2, 2)))\n",
    "    model.add(Dropout(0.15))\n",
    "    model.add(Conv2D(68, (3, 3), activation='relu'))\n",
    "    model.add(MaxPooling2D((2, 2)))\n",
    "    model.add(Dropout(0.15))\n",
    "    \n",
    "    model.add(Flatten())\n",
    "    \n",
    "    #model.add(Dropout(0.25))\n",
    "    #model.add(Dense(64, activation='relu'))\n",
    "    \n",
    "    model.add(Dense(128, activation='relu'))\n",
    "    model.add(Dropout(0.15))\n",
    "    \n",
    "    model.add(Dense(62,activation='softmax'))\n",
    "\n",
    "    #opt = keras.optimizers.adam(lr=0.0001, decay=1e-6)\n",
    "    model.compile(optimizer='rmsprop', loss='categorical_crossentropy', metrics=['acc'])\n",
    "    \n",
    "    return model"
   ]
  },
  {
   "cell_type": "code",
   "execution_count": 15,
   "metadata": {},
   "outputs": [
    {
     "name": "stdout",
     "output_type": "stream",
     "text": [
      "WARNING:tensorflow:From C:\\Users\\nazir\\Anaconda3\\envs\\m\\lib\\site-packages\\keras\\backend\\tensorflow_backend.py:74: The name tf.get_default_graph is deprecated. Please use tf.compat.v1.get_default_graph instead.\n",
      "\n",
      "WARNING:tensorflow:From C:\\Users\\nazir\\Anaconda3\\envs\\m\\lib\\site-packages\\keras\\backend\\tensorflow_backend.py:517: The name tf.placeholder is deprecated. Please use tf.compat.v1.placeholder instead.\n",
      "\n",
      "WARNING:tensorflow:From C:\\Users\\nazir\\Anaconda3\\envs\\m\\lib\\site-packages\\keras\\backend\\tensorflow_backend.py:4138: The name tf.random_uniform is deprecated. Please use tf.random.uniform instead.\n",
      "\n",
      "WARNING:tensorflow:From C:\\Users\\nazir\\Anaconda3\\envs\\m\\lib\\site-packages\\keras\\backend\\tensorflow_backend.py:3976: The name tf.nn.max_pool is deprecated. Please use tf.nn.max_pool2d instead.\n",
      "\n",
      "WARNING:tensorflow:From C:\\Users\\nazir\\Anaconda3\\envs\\m\\lib\\site-packages\\keras\\backend\\tensorflow_backend.py:133: The name tf.placeholder_with_default is deprecated. Please use tf.compat.v1.placeholder_with_default instead.\n",
      "\n",
      "WARNING:tensorflow:From C:\\Users\\nazir\\Anaconda3\\envs\\m\\lib\\site-packages\\keras\\backend\\tensorflow_backend.py:3445: calling dropout (from tensorflow.python.ops.nn_ops) with keep_prob is deprecated and will be removed in a future version.\n",
      "Instructions for updating:\n",
      "Please use `rate` instead of `keep_prob`. Rate should be set to `rate = 1 - keep_prob`.\n",
      "WARNING:tensorflow:From C:\\Users\\nazir\\Anaconda3\\envs\\m\\lib\\site-packages\\keras\\optimizers.py:790: The name tf.train.Optimizer is deprecated. Please use tf.compat.v1.train.Optimizer instead.\n",
      "\n",
      "WARNING:tensorflow:From C:\\Users\\nazir\\Anaconda3\\envs\\m\\lib\\site-packages\\keras\\backend\\tensorflow_backend.py:3295: The name tf.log is deprecated. Please use tf.math.log instead.\n",
      "\n",
      "_________________________________________________________________\n",
      "Layer (type)                 Output Shape              Param #   \n",
      "=================================================================\n",
      "conv2d_1 (Conv2D)            (None, 100, 100, 32)      896       \n",
      "_________________________________________________________________\n",
      "max_pooling2d_1 (MaxPooling2 (None, 50, 50, 32)        0         \n",
      "_________________________________________________________________\n",
      "dropout_1 (Dropout)          (None, 50, 50, 32)        0         \n",
      "_________________________________________________________________\n",
      "conv2d_2 (Conv2D)            (None, 48, 48, 68)        19652     \n",
      "_________________________________________________________________\n",
      "max_pooling2d_2 (MaxPooling2 (None, 24, 24, 68)        0         \n",
      "_________________________________________________________________\n",
      "dropout_2 (Dropout)          (None, 24, 24, 68)        0         \n",
      "_________________________________________________________________\n",
      "conv2d_3 (Conv2D)            (None, 22, 22, 68)        41684     \n",
      "_________________________________________________________________\n",
      "max_pooling2d_3 (MaxPooling2 (None, 11, 11, 68)        0         \n",
      "_________________________________________________________________\n",
      "dropout_3 (Dropout)          (None, 11, 11, 68)        0         \n",
      "_________________________________________________________________\n",
      "flatten_1 (Flatten)          (None, 8228)              0         \n",
      "_________________________________________________________________\n",
      "dense_1 (Dense)              (None, 128)               1053312   \n",
      "_________________________________________________________________\n",
      "dropout_4 (Dropout)          (None, 128)               0         \n",
      "_________________________________________________________________\n",
      "dense_2 (Dense)              (None, 62)                7998      \n",
      "=================================================================\n",
      "Total params: 1,123,542\n",
      "Trainable params: 1,123,542\n",
      "Non-trainable params: 0\n",
      "_________________________________________________________________\n"
     ]
    }
   ],
   "source": [
    "cnn_model = build_cnn_model()\n",
    "cnn_model.summary()"
   ]
  },
  {
   "cell_type": "code",
   "execution_count": 18,
   "metadata": {
    "scrolled": false
   },
   "outputs": [
    {
     "name": "stdout",
     "output_type": "stream",
     "text": [
      "Train on 2878 samples, validate on 1150 samples\n",
      "Epoch 1/10\n",
      "2878/2878 [==============================] - 242s 84ms/step - loss: 3.7714 - acc: 0.1042 - val_loss: 3.4460 - val_acc: 0.1452\n",
      "Epoch 2/10\n",
      "2878/2878 [==============================] - 237s 82ms/step - loss: 3.3568 - acc: 0.2349 - val_loss: 2.8924 - val_acc: 0.3643\n",
      "Epoch 3/10\n",
      "2878/2878 [==============================] - 237s 82ms/step - loss: 2.2534 - acc: 0.4388 - val_loss: 1.7942 - val_acc: 0.5852\n",
      "Epoch 4/10\n",
      "2878/2878 [==============================] - 241s 84ms/step - loss: 1.8395 - acc: 0.5243 - val_loss: 1.5123 - val_acc: 0.5939\n",
      "Epoch 5/10\n",
      "2878/2878 [==============================] - 236s 82ms/step - loss: 1.3582 - acc: 0.6445 - val_loss: 0.7888 - val_acc: 0.7991\n",
      "Epoch 6/10\n",
      "2878/2878 [==============================] - 240s 83ms/step - loss: 1.1248 - acc: 0.6946 - val_loss: 0.9972 - val_acc: 0.7670\n",
      "Epoch 7/10\n",
      "2878/2878 [==============================] - 234s 81ms/step - loss: 0.7669 - acc: 0.7950 - val_loss: 0.4705 - val_acc: 0.8957\n",
      "Epoch 8/10\n",
      "2878/2878 [==============================] - 249s 87ms/step - loss: 0.6193 - acc: 0.8263 - val_loss: 0.3921 - val_acc: 0.9139\n",
      "Epoch 9/10\n",
      "2878/2878 [==============================] - 238s 83ms/step - loss: 0.6284 - acc: 0.8409 - val_loss: 0.2133 - val_acc: 0.9574\n",
      "Epoch 10/10\n",
      "2878/2878 [==============================] - 236s 82ms/step - loss: 0.3690 - acc: 0.8926 - val_loss: 0.3093 - val_acc: 0.9200\n"
     ]
    }
   ],
   "source": [
    "cnn_hist = cnn_model.fit(numpy_trainfeatures , numpy_trainlabel, epochs=10, batch_size=128, validation_data=(numpy_validationfeatures, numpy_validationlabel))"
   ]
  },
  {
   "cell_type": "code",
   "execution_count": 19,
   "metadata": {},
   "outputs": [
    {
     "data": {
      "image/png": "[encoded data removed]",
      "text/plain": [
       "<Figure size 432x288 with 1 Axes>"
      ]
     },
     "metadata": {
      "needs_background": "light"
     },
     "output_type": "display_data"
    }
   ],
   "source": [
    "# PLOTTING ACCURACY\n",
    "\n",
    "plt.plot(cnn_hist.history['acc'])\n",
    "plt.plot(cnn_hist.history['val_acc'])\n",
    "plt.title('model acc')\n",
    "plt.ylabel('acc')\n",
    "plt.xlabel('epoch')\n",
    "plt.legend(['train', 'val'], loc='upper left')\n",
    "plt.savefig('final_acc.png', bbox_inches='tight')\n",
    "plt.show()"
   ]
  },
  {
   "cell_type": "code",
   "execution_count": 20,
   "metadata": {},
   "outputs": [
    {
     "data": {
      "image/png": "[encoded data removed]",
      "text/plain": [
       "<Figure size 432x288 with 1 Axes>"
      ]
     },
     "metadata": {
      "needs_background": "light"
     },
     "output_type": "display_data"
    }
   ],
   "source": [
    "# PLOTTING LOSS\n",
    "\n",
    "plt.plot(cnn_hist.history['loss'])\n",
    "plt.plot(cnn_hist.history['val_loss'])\n",
    "plt.title('model loss')\n",
    "plt.ylabel('loss')\n",
    "plt.xlabel('epoch')\n",
    "plt.legend(['train', 'val'], loc='upper left')\n",
    "plt.savefig('final_loss.png', bbox_inches='tight')\n",
    "plt.show()"
   ]
  },
  {
   "cell_type": "code",
   "execution_count": 21,
   "metadata": {},
   "outputs": [],
   "source": [
    "# PREPARING TESTING DATA\n",
    "\n",
    "testing_list = testing_list.astype('float32')/255.\n",
    "\n",
    "lb = LabelEncoder()\n",
    "testing_label = np_utils.to_categorical(lb.fit_transform(testing_label.ravel()))                                    "
   ]
  },
  {
   "cell_type": "code",
   "execution_count": 22,
   "metadata": {},
   "outputs": [
    {
     "name": "stdout",
     "output_type": "stream",
     "text": [
      "acc: 38.55%\n"
     ]
    }
   ],
   "source": [
    "# EVALUATING THE MODEL\n",
    "\n",
    "result = cnn_model.evaluate(testing_list, testing_label, verbose=0)\n",
    "print (\"%s: %.2f%%\" % (cnn_model.metrics_names[1], result[1]*100))"
   ]
  },
  {
   "cell_type": "code",
   "execution_count": 23,
   "metadata": {},
   "outputs": [
    {
     "name": "stdout",
     "output_type": "stream",
     "text": [
      "Saved trained model at C:\\Users\\nazir\\Desktop\\CNN - FaceRecognition\\saved_models\\final_model.h5 \n"
     ]
    }
   ],
   "source": [
    "# SAVING THE MODEL\n",
    "\n",
    "model_name = 'final_model.h5'\n",
    "save_dir = os.path.join(os.getcwd(), 'saved_models')\n",
    "\n",
    "if not os.path.isdir(save_dir):\n",
    "    os.makedirs(save_dir)\n",
    "    \n",
    "model_path = os.path.join(save_dir, model_name)\n",
    "cnn_model.save(model_path)\n",
    "print('Saved trained model at %s ' % model_path)\n",
    "\n",
    "model_json = cnn_model.to_json()\n",
    "with open(\"model.json\", \"w\") as json_file:\n",
    "    json_file.write(model_json)"
   ]
  },
  {
   "cell_type": "code",
   "execution_count": 24,
   "metadata": {},
   "outputs": [
    {
     "name": "stdout",
     "output_type": "stream",
     "text": [
      "3593/3593 [==============================] - 117s 33ms/step\n"
     ]
    }
   ],
   "source": [
    "# PREDICTING WITHOUT LABELS AND SAVING TO .CSV FILE\n",
    "\n",
    "preds = cnn_model.predict(testing_list, batch_size=32, verbose=1)\n",
    "\n",
    "max_percentage_predictions = preds.argmax(axis=1)\n",
    "flatten_predictions = max_percentage_predictions.astype(int).flatten()\n",
    "\n",
    "predictions = (lb.inverse_transform((flatten_predictions)))\n",
    "predictions_df = pd.DataFrame({'predictedvalues': predictions})\n",
    "\n",
    "true_values = testing_label.argmax(axis=1)\n",
    "flatten_true_values = true_values.astype(int).flatten()\n",
    "\n",
    "true_values = (lb.inverse_transform((flatten_true_values)))\n",
    "true_values_df = pd.DataFrame({'actualvalues': true_values})\n",
    "\n",
    "predictions_and_truevalues = true_values_df.join(predictions_df)\n",
    "predictions_and_truevalues.to_csv('Predictions.csv', index=False)"
   ]
  },
  {
   "cell_type": "code",
   "execution_count": null,
   "metadata": {},
   "outputs": [],
   "source": []
  }
 ],
 "metadata": {
  "kernelspec": {
   "display_name": "Python 3",
   "language": "python",
   "name": "python3"
  },
  "language_info": {
   "codemirror_mode": {
    "name": "ipython",
    "version": 3
   },
   "file_extension": ".py",
   "mimetype": "text/x-python",
   "name": "python",
   "nbconvert_exporter": "python",
   "pygments_lexer": "ipython3",
   "version": "3.6.10"
  }
 },
 "nbformat": 4,
 "nbformat_minor": 2
}
