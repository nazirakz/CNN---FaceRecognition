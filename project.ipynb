{
 "cells": [
  {
   "cell_type": "markdown",
   "metadata": {},
   "source": [
    "## Manage the Video Stream"
   ]
  },
  {
   "cell_type": "code",
   "execution_count": null,
   "metadata": {},
   "outputs": [],
   "source": [
    "import cv2\n",
    "import numpy as np\n",
    "import imutils\n",
    "import os\n",
    "\n",
    "#before running the program, enter the folder name and folder number\n",
    "folder_name = \"5_Outdoor - cooperative\"\n",
    "folder_number = \"5\"\n",
    "\n",
    "#i stands for the face\n",
    "#j stands for the frame\n",
    "for i in range(1, 63):\n",
    "    if not os.path.exists(\"DB/\" + str(i)):\n",
    "        os.mkdir(\"DB/\" + str(i))\n",
    "        \n",
    "    video_name = \"{}_{:03d}\".format(folder_number, i)\n",
    "    file_path = os.path.join(\"GOTCHA DB\", folder_name, video_name + \".mp4\")\n",
    "    \n",
    "    video_capture = cv2.VideoCapture(file_path)\n",
    "\n",
    "    j = 0\n",
    "    ret, frame = video_capture.read() \n",
    "\n",
    "    while ret:\n",
    "        frame = imutils.rotate_bound(frame, 90)\n",
    "        detect_faces(frame, folder_number, i, j)\n",
    "        ret, frame = video_capture.read() \n",
    "        j += 1\n",
    "\n",
    "    video_capture.release()"
   ]
  },
  {
   "cell_type": "code",
   "execution_count": null,
   "metadata": {},
   "outputs": [],
   "source": [
    "def detect_faces(frame, folder_number, i, j):\n",
    "    \n",
    "    cascFace = \"haarcascade_frontalface_default.xml\"\n",
    "    #cascNose = \"haarcascade_mcs_nose.xml\"\n",
    "    cascMouth = \"haarcascade_mcs_mouth.xml\"\n",
    "    #cascEye = \"haarcascade_eye.xml\"\n",
    "    \n",
    "    faceCascade = cv2.CascadeClassifier(cascFace)\n",
    "    #noseCascade = cv2.CascadeClassifier(cascNose)\n",
    "    mouthCascade = cv2.CascadeClassifier(cascMouth)\n",
    "    #eyeCascade = cv2.CascadeClassifier(cascEye)\n",
    "    \n",
    "    grayFrame = cv2.cvtColor(frame, cv2.COLOR_BGR2GRAY)\n",
    "    \n",
    "    # Detect faces in the image\n",
    "    faces = faceCascade.detectMultiScale(\n",
    "        grayFrame,\n",
    "        scaleFactor=1.1,\n",
    "        minNeighbors=7,\n",
    "        minSize=(25, 25),\n",
    "        flags = cv2.CASCADE_SCALE_IMAGE\n",
    "    )\n",
    "    \n",
    "    count = 0\n",
    "    for(x, y, w, h) in faces:\n",
    "        face = imutils.resize(frame[y:y+h, x:x+w], width=512, height=512)\n",
    "        grayFace = cv2.cvtColor(face, cv2.COLOR_BGR2GRAY)\n",
    "        \n",
    "        mouth = mouthCascade.detectMultiScale(\n",
    "            grayFace,\n",
    "            scaleFactor = 1.7,\n",
    "            minNeighbors = 11,\n",
    "            minSize = (25, 25),\n",
    "            maxSize = (250, 250),\n",
    "            flags = cv2.CASCADE_SCALE_IMAGE\n",
    "        )\n",
    "        \n",
    "        #check is it really a face\n",
    "        if len(mouth):\n",
    "            cv2.imwrite(os.path.join(\"DB\", str(i), \"mode_\" + str(folder_number) + \"_frame_\" + str(j) + \"_face_\" + str(count) + \".png\"), face)\n",
    "            \n",
    "        count += 1\n",
    "        "
   ]
  },
  {
   "cell_type": "markdown",
   "metadata": {},
   "source": [
    "## TRAINING"
   ]
  },
  {
   "cell_type": "code",
   "execution_count": 1,
   "metadata": {},
   "outputs": [
    {
     "name": "stdout",
     "output_type": "stream",
     "text": [
      "Device mapping:\n",
      "\n"
     ]
    },
    {
     "name": "stderr",
     "output_type": "stream",
     "text": [
      "Using TensorFlow backend.\n"
     ]
    }
   ],
   "source": [
    "import numpy as np\n",
    "import matplotlib.pyplot as plt\n",
    "import tensorflow as tf\n",
    "import tensorflow as tf\n",
    "\n",
    "from keras.backend.tensorflow_backend import set_session\n",
    "config = tf.ConfigProto()\n",
    "config.gpu_options.allow_growth = True \n",
    "config.log_device_placement = True\n",
    "sess = tf.Session(config=config)\n",
    "set_session(sess)  \n",
    "\n",
    "from matplotlib.pyplot import specgram\n",
    "import keras\n",
    "from keras.preprocessing import sequence\n",
    "from keras.models import Sequential\n",
    "from keras.layers import Dense, Embedding, LSTM\n",
    "from keras.preprocessing.text import Tokenizer\n",
    "from keras.preprocessing.sequence import pad_sequences\n",
    "from keras.utils import to_categorical\n",
    "from keras.utils import np_utils\n",
    "from keras.layers import Input, Flatten, Dropout, Activation\n",
    "from keras.layers import Conv1D, MaxPooling1D, AveragePooling1D\n",
    "from keras.layers.convolutional import Conv2D\n",
    "from keras.layers.convolutional import MaxPooling2D\n",
    "from keras.models import Model\n",
    "from keras.callbacks import ModelCheckpoint\n",
    "from sklearn.utils import shuffle\n",
    "from sklearn.preprocessing import LabelEncoder\n",
    "\n",
    "import cv2\n",
    "import os\n",
    "import pandas as pd\n",
    "import numpy as np\n",
    "import json"
   ]
  },
  {
   "cell_type": "code",
   "execution_count": 32,
   "metadata": {},
   "outputs": [],
   "source": [
    "# DEFINING ALL PARAMETERS\n",
    "\n",
    "# which videos are used for training and validation, which for testing\n",
    "train_val_videos = [2, 3, 4, 5, 6, 7]\n",
    "test_videos = [1]\n",
    "\n",
    "# path to the database\n",
    "path = \"C:\\\\Users\\\\CASALAB\\\\Desktop\\\\CNN - FaceRecognition\\\\DB\\\\\"\n",
    "\n",
    "# frames per second used for training/validation and testing, max is 60\n",
    "fps_training = 10\n",
    "fps_testing = 20\n",
    "\n",
    "rate_training = 60/fps_training\n",
    "rate_testing = 60/fps_testing\n",
    "\n",
    "num_of_subjects = 62\n",
    "\n",
    "# image size in pixels\n",
    "x = 102\n",
    "y = 102\n",
    "\n",
    "scale_factor_x = round(x/512, 2)\n",
    "scale_factor_y = round(y/512, 2)"
   ]
  },
  {
   "cell_type": "code",
   "execution_count": 33,
   "metadata": {},
   "outputs": [],
   "source": [
    "# INITIALIZING VARIABLES\n",
    "\n",
    "training_list = []\n",
    "testing_list = []\n",
    "\n",
    "training_label = []\n",
    "testing_label = []\n",
    "\n",
    "training_counter = 0\n",
    "testing_counter = 0"
   ]
  },
  {
   "cell_type": "code",
   "execution_count": 34,
   "metadata": {},
   "outputs": [],
   "source": [
    "# LOADING DATA\n",
    "\n",
    "for i in range (1, num_of_subjects+1):   \n",
    "    for name in os.listdir(path + str(i) + '\\\\'):\n",
    "        img = cv2.imread(path + str(i) + '\\\\' + name)\n",
    "        \n",
    "        if(img.size == 786432):\n",
    "            small = cv2.resize(img, (0,0), fx=scale_factor_x, fy=scale_factor_y)\n",
    "            video_number = int(name.split('_')[1])\n",
    "        \n",
    "            if video_number in train_val_videos:\n",
    "                if training_counter % rate_training == 0:\n",
    "                    training_list.append(small)\n",
    "                    training_label.append(str(i))\n",
    "                training_counter += 1\n",
    "        \n",
    "            elif video_number in test_videos:\n",
    "                if testing_counter % rate_testing == 0:\n",
    "                    testing_list.append(small)\n",
    "                    testing_label.append(str(i))\n",
    "                testing_counter += 1"
   ]
  },
  {
   "cell_type": "code",
   "execution_count": 35,
   "metadata": {},
   "outputs": [
    {
     "name": "stdout",
     "output_type": "stream",
     "text": [
      "Training: 4028\n",
      "Testing: 3593\n"
     ]
    }
   ],
   "source": [
    "training_list = np.array(training_list)\n",
    "training_label = np.array(training_label)\n",
    "print(\"Training: \" + str(training_list.shape[0]))\n",
    "\n",
    "testing_list = np.array(testing_list)\n",
    "testing_label = np.array(testing_label)\n",
    "print(\"Testing: \" + str(testing_list.shape[0]))"
   ]
  },
  {
   "cell_type": "code",
   "execution_count": 36,
   "metadata": {},
   "outputs": [],
   "source": [
    "# NORMALIZING AND SHUFFLING TRAINING DATA\n",
    "\n",
    "training_list_normalized = training_list.astype('float32')/255.\n",
    "training_list_normalized = training_list_normalized.reshape(training_list_normalized.shape[0], x*y*3)\n",
    "\n",
    "training_df = pd.DataFrame(training_list_normalized)\n",
    "training_labels_df = pd.DataFrame(training_label)\n",
    "                                 \n",
    "training_vectors = pd.concat([training_df,training_labels_df], axis=1)\n",
    "training_vectors_shuffled = shuffle(training_vectors)"
   ]
  },
  {
   "cell_type": "code",
   "execution_count": 37,
   "metadata": {},
   "outputs": [],
   "source": [
    "# SPLITTING DATA IN TRAINING AND VALIDATION SET\n",
    "\n",
    "newdf1 = np.random.rand(len(training_vectors_shuffled)) < 0.7\n",
    "train = training_vectors_shuffled[newdf1]\n",
    "validation = training_vectors_shuffled[~newdf1]"
   ]
  },
  {
   "cell_type": "code",
   "execution_count": 38,
   "metadata": {},
   "outputs": [],
   "source": [
    "# SPLITTING FEATURE VECTORS AND LABELS\n",
    "\n",
    "trainfeatures = train.iloc[:, :-1]\n",
    "trainlabel = train.iloc[:, -1:]\n",
    "validationfeatures = validation.iloc[:, :-1]\n",
    "validationlabel = validation.iloc[:, -1:]"
   ]
  },
  {
   "cell_type": "code",
   "execution_count": 39,
   "metadata": {},
   "outputs": [],
   "source": [
    "numpy_trainfeatures = trainfeatures.values\n",
    "numpy_trainfeatures = numpy_trainfeatures.reshape(numpy_trainfeatures.shape[0],x,y,3)\n",
    "numpy_label = trainlabel.values\n",
    "\n",
    "numpy_validationfeatures = validationfeatures.values\n",
    "numpy_validationfeatures = numpy_validationfeatures.reshape(numpy_validationfeatures.shape[0],x,y,3)\n",
    "numpy_validationlabel = validationlabel.values"
   ]
  },
  {
   "cell_type": "code",
   "execution_count": 40,
   "metadata": {},
   "outputs": [],
   "source": [
    "# LABELS TO CATEGORICAL\n",
    "\n",
    "lb = LabelEncoder()\n",
    "\n",
    "numpy_trainlabel = np_utils.to_categorical(lb.fit_transform(numpy_label.ravel()))\n",
    "numpy_validationlabel = np_utils.to_categorical(lb.fit_transform(numpy_validationlabel.ravel()))"
   ]
  },
  {
   "cell_type": "code",
   "execution_count": 41,
   "metadata": {},
   "outputs": [],
   "source": [
    "# BUILDING THE MODEL\n",
    "\n",
    "def build_cnn_model():\n",
    "    model = Sequential()\n",
    "    \n",
    "    model.add(Conv2D(32, (3, 3), activation='relu', input_shape=(102,102,3)))\n",
    "    model.add(MaxPooling2D((2, 2)))\n",
    "    model.add(Dropout(0.15))\n",
    "    model.add(Conv2D(68, (3, 3), activation='relu'))\n",
    "    model.add(MaxPooling2D((2, 2)))\n",
    "    model.add(Dropout(0.15))\n",
    "    model.add(Conv2D(68, (3, 3), activation='relu'))\n",
    "    model.add(MaxPooling2D((2, 2)))\n",
    "    model.add(Dropout(0.15))\n",
    "    \n",
    "    model.add(Flatten())\n",
    "    \n",
    "    #model.add(Dropout(0.25))\n",
    "    #model.add(Dense(64, activation='relu'))\n",
    "    \n",
    "    model.add(Dense(128, activation='relu'))\n",
    "    model.add(Dropout(0.15))\n",
    "    \n",
    "    model.add(Dense(62,activation='softmax'))\n",
    "\n",
    "    #opt = keras.optimizers.adam(lr=0.0001, decay=1e-6)\n",
    "    model.compile(optimizer='rmsprop', loss='categorical_crossentropy', metrics=['acc'])\n",
    "    \n",
    "    return model"
   ]
  },
  {
   "cell_type": "code",
   "execution_count": 42,
   "metadata": {},
   "outputs": [
    {
     "name": "stdout",
     "output_type": "stream",
     "text": [
      "_________________________________________________________________\n",
      "Layer (type)                 Output Shape              Param #   \n",
      "=================================================================\n",
      "conv2d_7 (Conv2D)            (None, 100, 100, 32)      896       \n",
      "_________________________________________________________________\n",
      "max_pooling2d_7 (MaxPooling2 (None, 50, 50, 32)        0         \n",
      "_________________________________________________________________\n",
      "dropout_9 (Dropout)          (None, 50, 50, 32)        0         \n",
      "_________________________________________________________________\n",
      "conv2d_8 (Conv2D)            (None, 48, 48, 68)        19652     \n",
      "_________________________________________________________________\n",
      "max_pooling2d_8 (MaxPooling2 (None, 24, 24, 68)        0         \n",
      "_________________________________________________________________\n",
      "dropout_10 (Dropout)         (None, 24, 24, 68)        0         \n",
      "_________________________________________________________________\n",
      "conv2d_9 (Conv2D)            (None, 22, 22, 68)        41684     \n",
      "_________________________________________________________________\n",
      "max_pooling2d_9 (MaxPooling2 (None, 11, 11, 68)        0         \n",
      "_________________________________________________________________\n",
      "dropout_11 (Dropout)         (None, 11, 11, 68)        0         \n",
      "_________________________________________________________________\n",
      "flatten_3 (Flatten)          (None, 8228)              0         \n",
      "_________________________________________________________________\n",
      "dense_5 (Dense)              (None, 128)               1053312   \n",
      "_________________________________________________________________\n",
      "dropout_12 (Dropout)         (None, 128)               0         \n",
      "_________________________________________________________________\n",
      "dense_6 (Dense)              (None, 62)                7998      \n",
      "=================================================================\n",
      "Total params: 1,123,542\n",
      "Trainable params: 1,123,542\n",
      "Non-trainable params: 0\n",
      "_________________________________________________________________\n"
     ]
    }
   ],
   "source": [
    "cnn_model = build_cnn_model()\n",
    "cnn_model.summary()"
   ]
  },
  {
   "cell_type": "code",
   "execution_count": 43,
   "metadata": {
    "scrolled": false
   },
   "outputs": [
    {
     "name": "stdout",
     "output_type": "stream",
     "text": [
      "Train on 2815 samples, validate on 1213 samples\n",
      "Epoch 1/100\n",
      "2815/2815 [==============================] - 63s 23ms/step - loss: 4.2012 - acc: 0.0284 - val_loss: 4.0514 - val_acc: 0.1237\n",
      "Epoch 2/100\n",
      "2815/2815 [==============================] - 61s 22ms/step - loss: 3.7604 - acc: 0.1119 - val_loss: 3.3383 - val_acc: 0.2564\n",
      "Epoch 3/100\n",
      "2815/2815 [==============================] - 61s 22ms/step - loss: 2.7338 - acc: 0.3233 - val_loss: 2.0411 - val_acc: 0.5458\n",
      "Epoch 4/100\n",
      "2815/2815 [==============================] - 60s 21ms/step - loss: 1.6754 - acc: 0.5684 - val_loss: 1.2636 - val_acc: 0.6900\n",
      "Epoch 5/100\n",
      "2815/2815 [==============================] - 61s 22ms/step - loss: 1.0700 - acc: 0.7179 - val_loss: 0.7519 - val_acc: 0.8335\n",
      "Epoch 6/100\n",
      "2815/2815 [==============================] - 62s 22ms/step - loss: 0.6908 - acc: 0.8078 - val_loss: 0.6056 - val_acc: 0.8739\n",
      "Epoch 7/100\n",
      "2815/2815 [==============================] - 61s 22ms/step - loss: 0.4803 - acc: 0.8650 - val_loss: 0.2872 - val_acc: 0.9448\n",
      "Epoch 8/100\n",
      "2815/2815 [==============================] - 61s 22ms/step - loss: 0.3268 - acc: 0.9094 - val_loss: 0.2437 - val_acc: 0.9481\n",
      "Epoch 9/100\n",
      "2815/2815 [==============================] - 61s 22ms/step - loss: 0.2077 - acc: 0.9407 - val_loss: 0.1446 - val_acc: 0.9753\n",
      "Epoch 10/100\n",
      "2815/2815 [==============================] - 62s 22ms/step - loss: 0.1882 - acc: 0.9428 - val_loss: 0.1539 - val_acc: 0.9670\n",
      "Epoch 11/100\n",
      "2815/2815 [==============================] - 62s 22ms/step - loss: 0.1306 - acc: 0.9627 - val_loss: 0.0966 - val_acc: 0.9843\n",
      "Epoch 12/100\n",
      "2815/2815 [==============================] - 61s 22ms/step - loss: 0.1084 - acc: 0.9677 - val_loss: 0.0901 - val_acc: 0.9860\n",
      "Epoch 13/100\n",
      "2815/2815 [==============================] - 61s 22ms/step - loss: 0.1124 - acc: 0.9684 - val_loss: 0.0784 - val_acc: 0.9852\n",
      "Epoch 14/100\n",
      "2815/2815 [==============================] - 63s 22ms/step - loss: 0.0787 - acc: 0.9780 - val_loss: 0.0738 - val_acc: 0.9876\n",
      "Epoch 15/100\n",
      "2815/2815 [==============================] - 63s 22ms/step - loss: 0.0629 - acc: 0.9790 - val_loss: 0.0861 - val_acc: 0.9860\n",
      "Epoch 16/100\n",
      "2815/2815 [==============================] - 62s 22ms/step - loss: 0.0602 - acc: 0.9833 - val_loss: 0.0884 - val_acc: 0.9868\n",
      "Epoch 17/100\n",
      "2815/2815 [==============================] - 62s 22ms/step - loss: 0.0564 - acc: 0.9837 - val_loss: 0.0686 - val_acc: 0.9893\n",
      "Epoch 18/100\n",
      "2815/2815 [==============================] - 61s 22ms/step - loss: 0.0639 - acc: 0.9805 - val_loss: 0.0682 - val_acc: 0.9885\n",
      "Epoch 19/100\n",
      "2815/2815 [==============================] - 60s 21ms/step - loss: 0.0318 - acc: 0.9904 - val_loss: 0.0866 - val_acc: 0.9893\n",
      "Epoch 20/100\n",
      "2815/2815 [==============================] - 60s 21ms/step - loss: 0.0460 - acc: 0.9883 - val_loss: 0.0818 - val_acc: 0.9885\n",
      "Epoch 21/100\n",
      "2815/2815 [==============================] - 60s 21ms/step - loss: 0.0410 - acc: 0.9883 - val_loss: 0.0618 - val_acc: 0.9934\n",
      "Epoch 22/100\n",
      "2815/2815 [==============================] - 60s 21ms/step - loss: 0.0389 - acc: 0.9883 - val_loss: 0.0709 - val_acc: 0.9876\n",
      "Epoch 23/100\n",
      "2815/2815 [==============================] - 60s 21ms/step - loss: 0.0347 - acc: 0.9901 - val_loss: 0.0706 - val_acc: 0.9893\n",
      "Epoch 24/100\n",
      "2815/2815 [==============================] - 61s 22ms/step - loss: 0.0262 - acc: 0.9922 - val_loss: 0.0715 - val_acc: 0.9909\n",
      "Epoch 25/100\n",
      "2815/2815 [==============================] - 60s 21ms/step - loss: 0.0331 - acc: 0.9908 - val_loss: 0.0728 - val_acc: 0.9893\n",
      "Epoch 26/100\n",
      "2815/2815 [==============================] - 60s 21ms/step - loss: 0.0409 - acc: 0.9890 - val_loss: 0.0635 - val_acc: 0.9934\n",
      "Epoch 27/100\n",
      "2815/2815 [==============================] - 61s 22ms/step - loss: 0.0287 - acc: 0.9940 - val_loss: 0.1133 - val_acc: 0.9802\n",
      "Epoch 28/100\n",
      "2815/2815 [==============================] - 60s 21ms/step - loss: 0.0170 - acc: 0.9961 - val_loss: 0.0674 - val_acc: 0.9918\n",
      "Epoch 29/100\n",
      "2815/2815 [==============================] - 60s 21ms/step - loss: 0.0204 - acc: 0.9947 - val_loss: 0.0727 - val_acc: 0.9901\n",
      "Epoch 30/100\n",
      "2815/2815 [==============================] - 61s 22ms/step - loss: 0.0097 - acc: 0.9964 - val_loss: 0.0839 - val_acc: 0.9901\n",
      "Epoch 31/100\n",
      "2815/2815 [==============================] - 60s 21ms/step - loss: 0.0316 - acc: 0.9908 - val_loss: 0.0743 - val_acc: 0.9909\n",
      "Epoch 32/100\n",
      "2815/2815 [==============================] - 60s 21ms/step - loss: 0.0171 - acc: 0.9954 - val_loss: 0.0767 - val_acc: 0.9909\n",
      "Epoch 33/100\n",
      "2815/2815 [==============================] - 60s 21ms/step - loss: 0.0132 - acc: 0.9964 - val_loss: 0.0787 - val_acc: 0.9918\n",
      "Epoch 34/100\n",
      "2815/2815 [==============================] - 60s 21ms/step - loss: 0.0237 - acc: 0.9947 - val_loss: 0.0787 - val_acc: 0.9901\n",
      "Epoch 35/100\n",
      "2815/2815 [==============================] - 60s 21ms/step - loss: 0.0237 - acc: 0.9940 - val_loss: 0.1003 - val_acc: 0.9901\n",
      "Epoch 36/100\n",
      "2815/2815 [==============================] - 61s 22ms/step - loss: 0.0160 - acc: 0.9957 - val_loss: 0.0757 - val_acc: 0.9918\n",
      "Epoch 37/100\n",
      "2815/2815 [==============================] - 61s 22ms/step - loss: 0.0128 - acc: 0.9947 - val_loss: 0.0654 - val_acc: 0.9926\n",
      "Epoch 38/100\n",
      "2815/2815 [==============================] - 60s 21ms/step - loss: 0.0165 - acc: 0.9968 - val_loss: 0.0797 - val_acc: 0.9918\n",
      "Epoch 39/100\n",
      "2815/2815 [==============================] - 60s 21ms/step - loss: 0.0062 - acc: 0.9972 - val_loss: 0.0829 - val_acc: 0.9901\n",
      "Epoch 40/100\n",
      "2815/2815 [==============================] - 60s 21ms/step - loss: 0.0139 - acc: 0.9947 - val_loss: 0.0825 - val_acc: 0.9901\n",
      "Epoch 41/100\n",
      "2815/2815 [==============================] - 61s 22ms/step - loss: 0.0089 - acc: 0.9979 - val_loss: 0.0585 - val_acc: 0.9918\n",
      "Epoch 42/100\n",
      "2815/2815 [==============================] - 60s 21ms/step - loss: 0.0137 - acc: 0.9950 - val_loss: 0.0722 - val_acc: 0.9926\n",
      "Epoch 43/100\n",
      "2815/2815 [==============================] - 61s 22ms/step - loss: 0.0168 - acc: 0.9947 - val_loss: 0.1059 - val_acc: 0.9835\n",
      "Epoch 44/100\n",
      "2815/2815 [==============================] - 60s 21ms/step - loss: 0.0192 - acc: 0.9954 - val_loss: 0.0847 - val_acc: 0.9885\n",
      "Epoch 45/100\n",
      "2815/2815 [==============================] - 61s 22ms/step - loss: 0.0173 - acc: 0.9964 - val_loss: 0.0820 - val_acc: 0.9901\n",
      "Epoch 46/100\n",
      "2815/2815 [==============================] - 60s 21ms/step - loss: 0.0094 - acc: 0.9972 - val_loss: 0.0703 - val_acc: 0.9926\n",
      "Epoch 47/100\n",
      "2815/2815 [==============================] - 60s 21ms/step - loss: 0.0069 - acc: 0.9982 - val_loss: 0.0739 - val_acc: 0.9934\n",
      "Epoch 48/100\n",
      "2815/2815 [==============================] - 60s 21ms/step - loss: 0.0044 - acc: 0.9993 - val_loss: 0.0622 - val_acc: 0.9942\n",
      "Epoch 49/100\n",
      "2815/2815 [==============================] - 61s 22ms/step - loss: 0.0058 - acc: 0.9975 - val_loss: 0.0697 - val_acc: 0.9909\n",
      "Epoch 50/100\n",
      "2815/2815 [==============================] - 60s 21ms/step - loss: 0.0047 - acc: 0.9982 - val_loss: 0.0730 - val_acc: 0.9926\n",
      "Epoch 51/100\n",
      "2815/2815 [==============================] - 60s 21ms/step - loss: 0.0063 - acc: 0.9982 - val_loss: 0.0601 - val_acc: 0.9934\n",
      "Epoch 52/100\n",
      "2815/2815 [==============================] - 61s 22ms/step - loss: 0.0256 - acc: 0.9936 - val_loss: 0.1056 - val_acc: 0.9885\n",
      "Epoch 53/100\n",
      "2815/2815 [==============================] - 60s 21ms/step - loss: 0.0082 - acc: 0.9986 - val_loss: 0.0726 - val_acc: 0.9918\n",
      "Epoch 54/100\n",
      "2815/2815 [==============================] - 60s 21ms/step - loss: 0.0198 - acc: 0.9943 - val_loss: 0.1054 - val_acc: 0.9885\n",
      "Epoch 55/100\n",
      "2815/2815 [==============================] - 60s 21ms/step - loss: 0.0046 - acc: 0.9989 - val_loss: 0.0630 - val_acc: 0.9926\n",
      "Epoch 56/100\n",
      "2815/2815 [==============================] - 61s 22ms/step - loss: 0.0016 - acc: 0.9996 - val_loss: 0.0659 - val_acc: 0.9934\n",
      "Epoch 57/100\n",
      "2815/2815 [==============================] - 60s 21ms/step - loss: 0.0124 - acc: 0.9964 - val_loss: 0.0633 - val_acc: 0.9926\n",
      "Epoch 58/100\n",
      "2815/2815 [==============================] - 60s 21ms/step - loss: 0.0059 - acc: 0.9986 - val_loss: 0.1028 - val_acc: 0.9876\n",
      "Epoch 59/100\n",
      "2815/2815 [==============================] - 62s 22ms/step - loss: 0.0088 - acc: 0.9961 - val_loss: 0.0725 - val_acc: 0.9918\n",
      "Epoch 60/100\n"
     ]
    },
    {
     "name": "stdout",
     "output_type": "stream",
     "text": [
      "2815/2815 [==============================] - 67s 24ms/step - loss: 0.0052 - acc: 0.9979 - val_loss: 0.0807 - val_acc: 0.9909\n",
      "Epoch 61/100\n",
      "2815/2815 [==============================] - 67s 24ms/step - loss: 0.0071 - acc: 0.9975 - val_loss: 0.0691 - val_acc: 0.9934\n",
      "Epoch 62/100\n",
      "2815/2815 [==============================] - 61s 22ms/step - loss: 0.0125 - acc: 0.9964 - val_loss: 0.0995 - val_acc: 0.9876\n",
      "Epoch 63/100\n",
      "2815/2815 [==============================] - 61s 22ms/step - loss: 0.0128 - acc: 0.9972 - val_loss: 0.1062 - val_acc: 0.9918\n",
      "Epoch 64/100\n",
      "2815/2815 [==============================] - 61s 22ms/step - loss: 0.0100 - acc: 0.9968 - val_loss: 0.0713 - val_acc: 0.9909\n",
      "Epoch 65/100\n",
      "2815/2815 [==============================] - 60s 21ms/step - loss: 0.0073 - acc: 0.9986 - val_loss: 0.0792 - val_acc: 0.9918\n",
      "Epoch 66/100\n",
      "2815/2815 [==============================] - 60s 21ms/step - loss: 0.0073 - acc: 0.9972 - val_loss: 0.0715 - val_acc: 0.9918\n",
      "Epoch 67/100\n",
      "2815/2815 [==============================] - 60s 21ms/step - loss: 0.0012 - acc: 0.9996 - val_loss: 0.0720 - val_acc: 0.9926\n",
      "Epoch 68/100\n",
      "2815/2815 [==============================] - 65s 23ms/step - loss: 0.0067 - acc: 0.9982 - val_loss: 0.0676 - val_acc: 0.9901\n",
      "Epoch 69/100\n",
      "2815/2815 [==============================] - 68s 24ms/step - loss: 0.0077 - acc: 0.9975 - val_loss: 0.0701 - val_acc: 0.9901\n",
      "Epoch 70/100\n",
      "2815/2815 [==============================] - 68s 24ms/step - loss: 0.0029 - acc: 0.9989 - val_loss: 0.0748 - val_acc: 0.9885\n",
      "Epoch 71/100\n",
      "2815/2815 [==============================] - 78s 28ms/step - loss: 0.0036 - acc: 0.9986 - val_loss: 0.0899 - val_acc: 0.9909\n",
      "Epoch 72/100\n",
      "2815/2815 [==============================] - 76s 27ms/step - loss: 6.4526e-04 - acc: 1.0000 - val_loss: 0.0916 - val_acc: 0.9901\n",
      "Epoch 73/100\n",
      "2815/2815 [==============================] - 72s 25ms/step - loss: 0.0214 - acc: 0.9964 - val_loss: 0.0864 - val_acc: 0.9901\n",
      "Epoch 74/100\n",
      "2815/2815 [==============================] - 60s 21ms/step - loss: 0.0060 - acc: 0.9975 - val_loss: 0.0767 - val_acc: 0.9918\n",
      "Epoch 75/100\n",
      "2815/2815 [==============================] - 60s 21ms/step - loss: 0.0086 - acc: 0.9972 - val_loss: 0.1114 - val_acc: 0.9901\n",
      "Epoch 76/100\n",
      "2815/2815 [==============================] - 60s 21ms/step - loss: 0.0025 - acc: 0.9986 - val_loss: 0.0895 - val_acc: 0.9893\n",
      "Epoch 77/100\n",
      "2815/2815 [==============================] - 60s 21ms/step - loss: 0.0118 - acc: 0.9957 - val_loss: 0.1046 - val_acc: 0.9901\n",
      "Epoch 78/100\n",
      "2815/2815 [==============================] - 60s 21ms/step - loss: 0.0022 - acc: 0.9993 - val_loss: 0.0789 - val_acc: 0.9926\n",
      "Epoch 79/100\n",
      "2815/2815 [==============================] - 59s 21ms/step - loss: 0.0103 - acc: 0.9968 - val_loss: 0.1061 - val_acc: 0.9885\n",
      "Epoch 80/100\n",
      "2815/2815 [==============================] - 60s 21ms/step - loss: 5.5922e-04 - acc: 1.0000 - val_loss: 0.0877 - val_acc: 0.9909\n",
      "Epoch 81/100\n",
      "2815/2815 [==============================] - 61s 22ms/step - loss: 0.0139 - acc: 0.9957 - val_loss: 0.0832 - val_acc: 0.9926\n",
      "Epoch 82/100\n",
      "2815/2815 [==============================] - 60s 21ms/step - loss: 0.0021 - acc: 0.9993 - val_loss: 0.1031 - val_acc: 0.9901\n",
      "Epoch 83/100\n",
      "2815/2815 [==============================] - 59s 21ms/step - loss: 0.0030 - acc: 0.9989 - val_loss: 0.0927 - val_acc: 0.9909\n",
      "Epoch 84/100\n",
      "2815/2815 [==============================] - 59s 21ms/step - loss: 0.0102 - acc: 0.9979 - val_loss: 0.0921 - val_acc: 0.9901\n",
      "Epoch 85/100\n",
      "2815/2815 [==============================] - 63s 22ms/step - loss: 0.0052 - acc: 0.9982 - val_loss: 0.0851 - val_acc: 0.9926\n",
      "Epoch 86/100\n",
      "2815/2815 [==============================] - 67s 24ms/step - loss: 0.0030 - acc: 0.9993 - val_loss: 0.1060 - val_acc: 0.9909\n",
      "Epoch 87/100\n",
      "2815/2815 [==============================] - 67s 24ms/step - loss: 0.0071 - acc: 0.9986 - val_loss: 0.0820 - val_acc: 0.9934\n",
      "Epoch 88/100\n",
      "2815/2815 [==============================] - 75s 26ms/step - loss: 0.0069 - acc: 0.9986 - val_loss: 0.1033 - val_acc: 0.9926\n",
      "Epoch 89/100\n",
      "2815/2815 [==============================] - 70s 25ms/step - loss: 7.7788e-04 - acc: 1.0000 - val_loss: 0.0872 - val_acc: 0.9885\n",
      "Epoch 90/100\n",
      "2815/2815 [==============================] - 69s 24ms/step - loss: 8.4374e-04 - acc: 0.9996 - val_loss: 0.0895 - val_acc: 0.9918\n",
      "Epoch 91/100\n",
      "2815/2815 [==============================] - 69s 24ms/step - loss: 0.0088 - acc: 0.9975 - val_loss: 0.1022 - val_acc: 0.9901\n",
      "Epoch 92/100\n",
      "2815/2815 [==============================] - 70s 25ms/step - loss: 0.0143 - acc: 0.9964 - val_loss: 0.0890 - val_acc: 0.9918\n",
      "Epoch 93/100\n",
      "2815/2815 [==============================] - 70s 25ms/step - loss: 0.0043 - acc: 0.9982 - val_loss: 0.0850 - val_acc: 0.9901\n",
      "Epoch 94/100\n",
      "2815/2815 [==============================] - 70s 25ms/step - loss: 0.0039 - acc: 0.9996 - val_loss: 0.0854 - val_acc: 0.9893\n",
      "Epoch 95/100\n",
      "2815/2815 [==============================] - 62s 22ms/step - loss: 0.0048 - acc: 0.9972 - val_loss: 0.0741 - val_acc: 0.9918\n",
      "Epoch 96/100\n",
      "2815/2815 [==============================] - 60s 21ms/step - loss: 0.0027 - acc: 0.9989 - val_loss: 0.0655 - val_acc: 0.9926\n",
      "Epoch 97/100\n",
      "2815/2815 [==============================] - 60s 21ms/step - loss: 0.0103 - acc: 0.9979 - val_loss: 0.0871 - val_acc: 0.9934\n",
      "Epoch 98/100\n",
      "2815/2815 [==============================] - 60s 21ms/step - loss: 0.0031 - acc: 0.9993 - val_loss: 0.0680 - val_acc: 0.9926\n",
      "Epoch 99/100\n",
      "2815/2815 [==============================] - 65s 23ms/step - loss: 0.0040 - acc: 0.9979 - val_loss: 0.0861 - val_acc: 0.9926\n",
      "Epoch 100/100\n",
      "2815/2815 [==============================] - 67s 24ms/step - loss: 0.0022 - acc: 0.9993 - val_loss: 0.0744 - val_acc: 0.9926\n"
     ]
    }
   ],
   "source": [
    "cnn_hist = cnn_model.fit(numpy_trainfeatures , numpy_trainlabel, epochs=100, batch_size=128, validation_data=(numpy_validationfeatures, numpy_validationlabel))"
   ]
  },
  {
   "cell_type": "code",
   "execution_count": 44,
   "metadata": {},
   "outputs": [
    {
     "data": {
      "image/png": "[encoded data removed]",
      "text/plain": [
       "<Figure size 432x288 with 1 Axes>"
      ]
     },
     "metadata": {
      "needs_background": "light"
     },
     "output_type": "display_data"
    }
   ],
   "source": [
    "# PLOTTING ACCURACY\n",
    "\n",
    "plt.plot(cnn_hist.history['acc'])\n",
    "plt.plot(cnn_hist.history['val_acc'])\n",
    "plt.title('model acc')\n",
    "plt.ylabel('acc')\n",
    "plt.xlabel('epoch')\n",
    "plt.legend(['train', 'val'], loc='upper left')\n",
    "plt.savefig('final_acc.png', bbox_inches='tight')\n",
    "plt.show()"
   ]
  },
  {
   "cell_type": "code",
   "execution_count": 45,
   "metadata": {},
   "outputs": [
    {
     "data": {
      "image/png": "[encoded data removed]",
      "text/plain": [
       "<Figure size 432x288 with 1 Axes>"
      ]
     },
     "metadata": {
      "needs_background": "light"
     },
     "output_type": "display_data"
    }
   ],
   "source": [
    "# PLOTTING LOSS\n",
    "\n",
    "plt.plot(cnn_hist.history['loss'])\n",
    "plt.plot(cnn_hist.history['val_loss'])\n",
    "plt.title('model loss')\n",
    "plt.ylabel('loss')\n",
    "plt.xlabel('epoch')\n",
    "plt.legend(['train', 'val'], loc='upper left')\n",
    "plt.savefig('final_loss.png', bbox_inches='tight')\n",
    "plt.show()"
   ]
  },
  {
   "cell_type": "code",
   "execution_count": 46,
   "metadata": {},
   "outputs": [],
   "source": [
    "# PREPARING TESTING DATA\n",
    "\n",
    "testing_list = testing_list.astype('float32')/255.\n",
    "\n",
    "lb = LabelEncoder()\n",
    "testing_label = np_utils.to_categorical(lb.fit_transform(testing_label.ravel()))                                    "
   ]
  },
  {
   "cell_type": "code",
   "execution_count": 47,
   "metadata": {},
   "outputs": [
    {
     "name": "stdout",
     "output_type": "stream",
     "text": [
      "acc: 43.70%\n"
     ]
    }
   ],
   "source": [
    "# EVALUATING THE MODEL\n",
    "\n",
    "result = cnn_model.evaluate(testing_list, testing_label, verbose=0)\n",
    "print (\"%s: %.2f%%\" % (cnn_model.metrics_names[1], result[1]*100))"
   ]
  },
  {
   "cell_type": "code",
   "execution_count": 48,
   "metadata": {},
   "outputs": [
    {
     "name": "stdout",
     "output_type": "stream",
     "text": [
      "Saved trained model at C:\\Users\\CASALAB\\Desktop\\CNN - FaceRecognition\\saved_models\\final_model.h5 \n"
     ]
    }
   ],
   "source": [
    "# SAVING THE MODEL\n",
    "\n",
    "model_name = 'final_model.h5'\n",
    "save_dir = os.path.join(os.getcwd(), 'saved_models')\n",
    "\n",
    "if not os.path.isdir(save_dir):\n",
    "    os.makedirs(save_dir)\n",
    "    \n",
    "model_path = os.path.join(save_dir, model_name)\n",
    "cnn_model.save(model_path)\n",
    "print('Saved trained model at %s ' % model_path)\n",
    "\n",
    "model_json = cnn_model.to_json()\n",
    "with open(\"model.json\", \"w\") as json_file:\n",
    "    json_file.write(model_json)"
   ]
  },
  {
   "cell_type": "code",
   "execution_count": 49,
   "metadata": {},
   "outputs": [
    {
     "name": "stdout",
     "output_type": "stream",
     "text": [
      "3593/3593 [==============================] - 29s 8ms/step\n"
     ]
    }
   ],
   "source": [
    "# PREDICTING WITHOUT LABELS AND SAVING TO .CSV FILE\n",
    "\n",
    "preds = cnn_model.predict(testing_list, batch_size=32, verbose=1)\n",
    "\n",
    "max_percentage_predictions = preds.argmax(axis=1)\n",
    "flatten_predictions = max_percentage_predictions.astype(int).flatten()\n",
    "\n",
    "predictions = (lb.inverse_transform((flatten_predictions)))\n",
    "predictions_df = pd.DataFrame({'predictedvalues': predictions})\n",
    "\n",
    "true_values = testing_label.argmax(axis=1)\n",
    "flatten_true_values = true_values.astype(int).flatten()\n",
    "\n",
    "true_values = (lb.inverse_transform((flatten_true_values)))\n",
    "true_values_df = pd.DataFrame({'actualvalues': true_values})\n",
    "\n",
    "predictions_and_truevalues = true_values_df.join(predictions_df)\n",
    "predictions_and_truevalues.to_csv('Predictions.csv', index=False)"
   ]
  },
  {
   "cell_type": "markdown",
   "metadata": {},
   "source": [
    "## Prediction Module"
   ]
  },
  {
   "cell_type": "code",
   "execution_count": 2,
   "metadata": {},
   "outputs": [
    {
     "name": "stdout",
     "output_type": "stream",
     "text": [
      "WARNING:tensorflow:From C:\\Users\\nazir\\Anaconda3\\envs\\a\\lib\\site-packages\\keras\\backend\\tensorflow_backend.py:174: The name tf.get_default_session is deprecated. Please use tf.compat.v1.get_default_session instead.\n",
      "\n",
      "WARNING:tensorflow:From C:\\Users\\nazir\\Anaconda3\\envs\\a\\lib\\site-packages\\keras\\backend\\tensorflow_backend.py:181: The name tf.ConfigProto is deprecated. Please use tf.compat.v1.ConfigProto instead.\n",
      "\n",
      "WARNING:tensorflow:From C:\\Users\\nazir\\Anaconda3\\envs\\a\\lib\\site-packages\\keras\\backend\\tensorflow_backend.py:186: The name tf.Session is deprecated. Please use tf.compat.v1.Session instead.\n",
      "\n",
      "WARNING:tensorflow:From C:\\Users\\nazir\\Anaconda3\\envs\\a\\lib\\site-packages\\keras\\backend\\tensorflow_backend.py:190: The name tf.global_variables is deprecated. Please use tf.compat.v1.global_variables instead.\n",
      "\n",
      "WARNING:tensorflow:From C:\\Users\\nazir\\Anaconda3\\envs\\a\\lib\\site-packages\\keras\\backend\\tensorflow_backend.py:199: The name tf.is_variable_initialized is deprecated. Please use tf.compat.v1.is_variable_initialized instead.\n",
      "\n",
      "WARNING:tensorflow:From C:\\Users\\nazir\\Anaconda3\\envs\\a\\lib\\site-packages\\keras\\backend\\tensorflow_backend.py:206: The name tf.variables_initializer is deprecated. Please use tf.compat.v1.variables_initializer instead.\n",
      "\n",
      "Loaded model from disk\n",
      "WARNING:tensorflow:From C:\\Users\\nazir\\Anaconda3\\envs\\a\\lib\\site-packages\\keras\\optimizers.py:790: The name tf.train.Optimizer is deprecated. Please use tf.compat.v1.train.Optimizer instead.\n",
      "\n",
      "WARNING:tensorflow:From C:\\Users\\nazir\\Anaconda3\\envs\\a\\lib\\site-packages\\keras\\backend\\tensorflow_backend.py:3295: The name tf.log is deprecated. Please use tf.math.log instead.\n",
      "\n"
     ]
    }
   ],
   "source": [
    "# loading json and creating model\n",
    "\n",
    "import numpy\n",
    "from keras.models import model_from_json\n",
    "\n",
    "json_file = open('model.json', 'r')\n",
    "loaded_model_json = json_file.read()\n",
    "json_file.close()\n",
    "\n",
    "loaded_model = model_from_json(loaded_model_json)\n",
    "#load weights into new model\n",
    "loaded_model.load_weights(\"saved_models/final_modelA.h5\")\n",
    "print(\"Loaded model from disk\")\n",
    " \n",
    "#evaluate loaded model on test data\n",
    "loaded_model.compile(loss='categorical_crossentropy', optimizer='rmsprop', metrics=['accuracy'])\n"
   ]
  },
  {
   "cell_type": "code",
   "execution_count": 4,
   "metadata": {},
   "outputs": [
    {
     "name": "stdout",
     "output_type": "stream",
     "text": [
      "Loaded file: C:/Users/nazir/Desktop/CNN - FaceRecognition/DB/1/mode_1_frame_7_face_1.png\n"
     ]
    },
    {
     "data": {
      "text/plain": [
       "<matplotlib.image.AxesImage at 0x1fb0ed07400>"
      ]
     },
     "execution_count": 4,
     "metadata": {},
     "output_type": "execute_result"
    },
    {
     "data": {
      "image/png": "[encoded data removed]",
      "text/plain": [
       "<Figure size 432x288 with 1 Axes>"
      ]
     },
     "metadata": {
      "needs_background": "light"
     },
     "output_type": "display_data"
    }
   ],
   "source": [
    "from tkinter import filedialog\n",
    "from tkinter import *\n",
    "import cv2\n",
    "import matplotlib.pyplot as plt\n",
    "import matplotlib.image as mpimg\n",
    "\n",
    "root = Tk()\n",
    "file = filedialog.askopenfile()\n",
    "root.destroy()\n",
    "\n",
    "print(\"Loaded file: \" + file.name)\n",
    "plt.imshow(mpimg.imread(file.name))"
   ]
  },
  {
   "cell_type": "code",
   "execution_count": 73,
   "metadata": {},
   "outputs": [],
   "source": [
    "#import cv2\n",
    "#import matplotlib.pyplot as plt\n",
    "#import matplotlib.image as mpimg\n",
    "\n",
    "#filename = \"DB/48/mode_1_frame_13_face_0.png\"\n",
    "#file = open(filename)\n",
    "#print(\"Loaded file: \" + file.name)\n",
    "#plt.imshow(mpimg.imread(filename))"
   ]
  },
  {
   "cell_type": "code",
   "execution_count": 74,
   "metadata": {},
   "outputs": [],
   "source": [
    "if(cv2.imread(file.name).size == 786432):\n",
    "    img = cv2.imread(file.name)\n",
    "    small = cv2.resize(img, (0,0), fx=0.2, fy=0.2)"
   ]
  },
  {
   "cell_type": "code",
   "execution_count": 75,
   "metadata": {},
   "outputs": [],
   "source": [
    "# Creating feature vector\n",
    "import numpy as np\n",
    "\n",
    "prediction = []\n",
    "prediction.append(small)\n",
    "x = np.array(prediction)"
   ]
  },
  {
   "cell_type": "code",
   "execution_count": 76,
   "metadata": {},
   "outputs": [],
   "source": [
    "# Normalizing feature vector\n",
    "to_predict = x.astype('float32')/255."
   ]
  },
  {
   "cell_type": "code",
   "execution_count": 77,
   "metadata": {},
   "outputs": [],
   "source": [
    "# Using the already trained model to predict\n",
    "livepreds = loaded_model.predict(to_predict, \n",
    "                         batch_size=16, \n",
    "                         verbose=2)"
   ]
  },
  {
   "cell_type": "code",
   "execution_count": 78,
   "metadata": {},
   "outputs": [
    {
     "name": "stdout",
     "output_type": "stream",
     "text": [
      "1: 95.4%\n",
      "17: 4.6%\n",
      "42: 0.0%\n",
      "54: 0.0%\n",
      "13: 0.0%\n"
     ]
    }
   ],
   "source": [
    "subjects = livepreds.argsort().ravel()[-5:][::-1]\n",
    "real_subjects = subjects+1\n",
    "\n",
    "i = 0\n",
    "for subject in subjects:\n",
    "    print(str(real_subjects[i]) + \": \" + str(round(livepreds.ravel()[subject]*100, 2)) + \"%\")\n",
    "    i += 1"
   ]
  },
  {
   "cell_type": "code",
   "execution_count": null,
   "metadata": {},
   "outputs": [],
   "source": []
  },
  {
   "cell_type": "code",
   "execution_count": null,
   "metadata": {},
   "outputs": [],
   "source": []
  }
 ],
 "metadata": {
  "kernelspec": {
   "display_name": "Python 3",
   "language": "python",
   "name": "python3"
  },
  "language_info": {
   "codemirror_mode": {
    "name": "ipython",
    "version": 3
   },
   "file_extension": ".py",
   "mimetype": "text/x-python",
   "name": "python",
   "nbconvert_exporter": "python",
   "pygments_lexer": "ipython3",
   "version": "3.6.10"
  }
 },
 "nbformat": 4,
 "nbformat_minor": 2
}
