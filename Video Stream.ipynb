{
 "cells": [
  {
   "cell_type": "markdown",
   "metadata": {
    "colab_type": "text",
    "id": "p3sj1NimxYyK"
   },
   "source": [
    "## Manage the Video Stream"
   ]
  },
  {
   "cell_type": "code",
   "execution_count": 5,
   "metadata": {
    "colab": {},
    "colab_type": "code",
    "id": "KOBBGH1hxYyO"
   },
   "outputs": [],
   "source": [
    "import cv2\n",
    "import numpy as np\n",
    "import imutils\n",
    "import os\n",
    "\n",
    "#before running the program, enter the folder name and folder number\n",
    "folder_name = \"5_Outdoor - cooperative\"\n",
    "folder_number = \"5\"\n",
    "\n",
    "#i stands for the face\n",
    "#j stands for the frame\n",
    "for i in range(1, 63):\n",
    "    if not os.path.exists(\"DB/\" + str(i)):\n",
    "        os.mkdir(\"DB/\" + str(i))\n",
    "        \n",
    "    video_name = \"{}_{:03d}\".format(folder_number, i)\n",
    "    file_path = os.path.join(\"GOTCHA DB\", folder_name, video_name + \".mp4\")\n",
    "    \n",
    "    video_capture = cv2.VideoCapture(file_path)\n",
    "\n",
    "    j = 0\n",
    "    ret, frame = video_capture.read() \n",
    "\n",
    "    while ret:\n",
    "        frame = imutils.rotate_bound(frame, 90)\n",
    "        detect_faces(frame, folder_number, i, j)\n",
    "        ret, frame = video_capture.read() \n",
    "        j += 1\n",
    "\n",
    "    video_capture.release()"
   ]
  },
  {
   "cell_type": "code",
   "execution_count": 3,
   "metadata": {
    "colab": {},
    "colab_type": "code",
    "id": "cGSlUPilxYya"
   },
   "outputs": [],
   "source": [
    "def detect_faces(frame, folder_number, i, j):\n",
    "    \n",
    "    cascFace = \"haarcascade_frontalface_default.xml\"\n",
    "    #cascNose = \"haarcascade_mcs_nose.xml\"\n",
    "    cascMouth = \"haarcascade_mcs_mouth.xml\"\n",
    "    #cascEye = \"haarcascade_eye.xml\"\n",
    "    \n",
    "    faceCascade = cv2.CascadeClassifier(cascFace)\n",
    "    #noseCascade = cv2.CascadeClassifier(cascNose)\n",
    "    mouthCascade = cv2.CascadeClassifier(cascMouth)\n",
    "    #eyeCascade = cv2.CascadeClassifier(cascEye)\n",
    "    \n",
    "    grayFrame = cv2.cvtColor(frame, cv2.COLOR_BGR2GRAY)\n",
    "    \n",
    "    # Detect faces in the image\n",
    "    faces = faceCascade.detectMultiScale(\n",
    "        grayFrame,\n",
    "        scaleFactor=1.1,\n",
    "        minNeighbors=7,\n",
    "        minSize=(25, 25),\n",
    "        flags = cv2.CASCADE_SCALE_IMAGE\n",
    "    )\n",
    "    \n",
    "    count = 0\n",
    "    for(x, y, w, h) in faces:\n",
    "        face = imutils.resize(frame[y:y+h, x:x+w], width=512, height=512)\n",
    "        grayFace = cv2.cvtColor(face, cv2.COLOR_BGR2GRAY)\n",
    "        \n",
    "        mouth = mouthCascade.detectMultiScale(\n",
    "            grayFace,\n",
    "            scaleFactor = 1.7,\n",
    "            minNeighbors = 11,\n",
    "            minSize = (25, 25),\n",
    "            maxSize = (250, 250),\n",
    "            flags = cv2.CASCADE_SCALE_IMAGE\n",
    "        )\n",
    "        \n",
    "        #check is it really a face\n",
    "        if len(mouth):\n",
    "            cv2.imwrite(os.path.join(\"DB\", str(i), \"mode_\" + str(folder_number) + \"_frame_\" + str(j) + \"_face_\" + str(count) + \".png\"), face)\n",
    "            \n",
    "        count += 1\n",
    "        "
   ]
  },
  {
   "cell_type": "code",
   "execution_count": null,
   "metadata": {},
   "outputs": [],
   "source": []
  }
 ],
 "metadata": {
  "colab": {
   "collapsed_sections": [],
   "name": "Video Stream Final.ipynb",
   "provenance": [],
   "version": "0.3.2"
  },
  "kernelspec": {
   "display_name": "Python 3",
   "language": "python",
   "name": "python3"
  },
  "language_info": {
   "codemirror_mode": {
    "name": "ipython",
    "version": 3
   },
   "file_extension": ".py",
   "mimetype": "text/x-python",
   "name": "python",
   "nbconvert_exporter": "python",
   "pygments_lexer": "ipython3",
   "version": "3.6.10"
  }
 },
 "nbformat": 4,
 "nbformat_minor": 1
}
